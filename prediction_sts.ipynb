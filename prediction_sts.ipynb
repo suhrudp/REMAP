{
 "cells": [
  {
   "cell_type": "markdown",
   "metadata": {},
   "source": [
    "# Prediction system"
   ]
  },
  {
   "cell_type": "markdown",
   "metadata": {},
   "source": [
    "## This is a python notebook where you can upload your sit-to-stand data and get prediction results!"
   ]
  },
  {
   "cell_type": "code",
   "execution_count": 8,
   "metadata": {},
   "outputs": [
    {
     "name": "stdout",
     "output_type": "stream",
     "text": [
      "The predictions for the new data are: ['PD']\n"
     ]
    }
   ],
   "source": [
    "# import required libraries\n",
    "import pickle\n",
    "import pandas as pd\n",
    "import torch\n",
    "import torch.nn as nn\n",
    "import pandas as pd\n",
    "import numpy as np\n",
    "\n",
    "# define sit-to-stand features\n",
    "features = [f'x{i}' for i in range(1, 26)] + [f'y{i}' for i in range(1, 26)] + ['DBS_state']\n",
    "\n",
    "# define the long short-term memory classifier\n",
    "class LSTMClassifier(nn.Module):\n",
    "    def __init__(self, input_dim, hidden_dim, output_dim=2, num_layers=3):\n",
    "        super(LSTMClassifier, self).__init__()\n",
    "        self.hidden_dim = hidden_dim\n",
    "        self.num_layers = num_layers\n",
    "        self.lstm = nn.LSTM(input_dim, hidden_dim, num_layers=num_layers, batch_first=True)\n",
    "        self.fc = nn.Linear(hidden_dim, output_dim)\n",
    "\n",
    "    def forward(self, x):\n",
    "        h0 = torch.zeros(self.num_layers, x.size(0), self.hidden_dim).to(x.device)\n",
    "        c0 = torch.zeros(self.num_layers, x.size(0), self.hidden_dim).to(x.device)\n",
    "        out, _ = self.lstm(x, (h0, c0))\n",
    "        out = self.fc(out[:, -1, :])\n",
    "        return out\n",
    "\n",
    "# import the scaler fitted ot the model\n",
    "scaler_file_path = '/Users/suhrudp/Library/CloudStorage/OneDrive-Personal/Stats/REMAP Open Dataset PD/Analysis/Models/sts_scaler.pkl'\n",
    "with open(scaler_file_path, 'rb') as file:\n",
    "    scaler = pickle.load(file)\n",
    "\n",
    "# import the lstm model weights\n",
    "model_file_path = '/Users/suhrudp/Library/CloudStorage/OneDrive-Personal/Stats/REMAP Open Dataset PD/Analysis/Models/sts_model_weights.pth'\n",
    "model = LSTMClassifier(input_dim=51, hidden_dim=80, num_layers=3)\n",
    "model.load_state_dict(torch.load(model_file_path))\n",
    "model.eval()\n",
    "\n",
    "# define data pre-processing as done while training the model\n",
    "def preprocess_new_data(filepath, scaler):\n",
    "    new_data = pd.read_csv(filepath, header=None, skiprows=1)\n",
    "    column_names = ['frame_number', 'time_s'] + [f'x{i}' for i in range(1, 26)] + [f'y{i}' for i in range(1, 26)]\n",
    "    new_data.columns = column_names\n",
    "    new_data = new_data.iloc[:, 2:]\n",
    "    new_data['DBS_state'] = 1\n",
    "    features = [col for col in column_names[2:] + ['DBS_state'] if col in new_data.columns]\n",
    "    new_data[features] = scaler.transform(new_data[features])\n",
    "    return new_data[features]\n",
    "\n",
    "# define the model prediction function\n",
    "def predict(model, new_data):\n",
    "    with torch.no_grad():\n",
    "        new_data = torch.tensor(new_data.to_numpy(dtype=np.float32))\n",
    "        \n",
    "        if new_data.ndim == 2:\n",
    "            new_data = new_data.unsqueeze(0)\n",
    "        \n",
    "        outputs = model(new_data)\n",
    "        _, predicted = torch.max(outputs.data, 1)\n",
    "        \n",
    "        return [\"PD\" if label == 1 else \"Control\" for label in predicted]\n",
    "\n",
    "# prediction using the model\n",
    "filepath = '/Users/suhrudp/Library/CloudStorage/OneDrive-Personal/Stats/REMAP Open Dataset PD/21h9f9e30v9cl2fapjggz4q1x7/SitToStand/Data/STS_2D_skeletons_coarsened/Pt275_PD_n_55.csv'\n",
    "preprocessed_data = preprocess_new_data(filepath, scaler)\n",
    "prediction = predict(model, preprocessed_data)\n",
    "print(f'The predictions for the new data are: {prediction}')"
   ]
  }
 ],
 "metadata": {
  "kernelspec": {
   "display_name": "base",
   "language": "python",
   "name": "python3"
  },
  "language_info": {
   "codemirror_mode": {
    "name": "ipython",
    "version": 3
   },
   "file_extension": ".py",
   "mimetype": "text/x-python",
   "name": "python",
   "nbconvert_exporter": "python",
   "pygments_lexer": "ipython3",
   "version": "3.11.5"
  }
 },
 "nbformat": 4,
 "nbformat_minor": 2
}
