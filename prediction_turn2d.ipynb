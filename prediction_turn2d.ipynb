{
 "cells": [
  {
   "cell_type": "markdown",
   "metadata": {},
   "source": [
    "# Prediction system"
   ]
  },
  {
   "cell_type": "markdown",
   "metadata": {},
   "source": [
    "## This is a python notebook where you can upload your 2D turning data and get prediction results!"
   ]
  },
  {
   "cell_type": "code",
   "execution_count": 16,
   "metadata": {},
   "outputs": [
    {
     "name": "stdout",
     "output_type": "stream",
     "text": [
      "The predictions for the new data are: ['Control']\n"
     ]
    }
   ],
   "source": [
    "import pickle\n",
    "import pandas as pd\n",
    "import torch\n",
    "import torch.nn as nn\n",
    "import numpy as np\n",
    "import torch.optim as optim\n",
    "from torch.utils.data import DataLoader, Dataset\n",
    "\n",
    "# Define sit-to-stand features\n",
    "features = [f'x{i}' for i in range(0, 17)] + [f'y{i}' for i in range(0, 17)] + ['number_of_turning_steps'] + ['turning_duration'] + ['turning_angle'] + ['type_of_turn']\n",
    "\n",
    "# Define the LSTM classifier\n",
    "class LSTMClassifier(nn.Module):\n",
    "    def __init__(self, input_dim, hidden_dim, num_patients, output_dim=2, num_layers=1):\n",
    "        super(LSTMClassifier, self).__init__()\n",
    "        self.hidden_dim = hidden_dim\n",
    "        self.num_layers = num_layers\n",
    "        self.lstm = nn.LSTM(input_dim, hidden_dim, num_layers=num_layers, batch_first=True)\n",
    "        self.patient_embedding = nn.Embedding(num_patients, hidden_dim)\n",
    "        self.fc = nn.Linear(hidden_dim, output_dim)\n",
    "\n",
    "    def forward(self, x, patient_ids):\n",
    "        h0 = torch.zeros(self.num_layers, x.size(0), self.hidden_dim).to(x.device)\n",
    "        c0 = torch.zeros(self.num_layers, x.size(0), self.hidden_dim).to(x.device)\n",
    "        out, _ = self.lstm(x, (h0, c0))\n",
    "        out = out[:, -1, :]\n",
    "        patient_intercepts = self.patient_embedding(patient_ids)\n",
    "        out = out + patient_intercepts\n",
    "        out = self.fc(out)\n",
    "        return out\n",
    "\n",
    "# Load the scaler fitted to the model\n",
    "scaler_file_path = '/Users/suhrudp/Library/CloudStorage/OneDrive-Personal/Stats/REMAP Open Dataset PD/Analysis/Models/scaler_turn2d.pkl'\n",
    "with open(scaler_file_path, 'rb') as file:\n",
    "    scaler = pickle.load(file)\n",
    "\n",
    "# Load the LSTM model weights\n",
    "model_file_path = '/Users/suhrudp/Library/CloudStorage/OneDrive-Personal/Stats/REMAP Open Dataset PD/Analysis/Models/model_turn2d.pth'\n",
    "model = LSTMClassifier(input_dim=38, num_patients=22, hidden_dim=59, num_layers=2) # model trained using data from 22 patients\n",
    "model.load_state_dict(torch.load(model_file_path))\n",
    "model.eval()\n",
    "\n",
    "# Define data preprocessing as done while training the model\n",
    "def preprocess_new_data(filepath, scaler, turning_features=None):\n",
    "    new_data = pd.read_csv(filepath, header=None, skiprows=1)\n",
    "    column_names = [f'x{i}' for i in range(0, 17)] + [f'y{i}' for i in range(0, 17)]\n",
    "    new_data.columns = column_names\n",
    "    new_data = new_data.iloc[:, 2:]\n",
    "    expected_features = [f'x{i}' for i in range(0, 17)] + [f'y{i}' for i in range(0, 17)] + [\n",
    "        'number_of_turning_steps', 'turning_duration', 'turning_angle', 'type_of_turn']\n",
    "    if turning_features is None:\n",
    "        turning_features = {\n",
    "            'number_of_turning_steps': 0,\n",
    "            'turning_duration': 0.0,\n",
    "            'turning_angle': 0.0,\n",
    "            'type_of_turn': 0\n",
    "        }\n",
    "    for feature, default_value in turning_features.items():\n",
    "        if feature not in new_data.columns:\n",
    "            new_data[feature] = default_value\n",
    "    for feature in expected_features:\n",
    "        if feature not in new_data.columns:\n",
    "            new_data[feature] = 0\n",
    "    new_data = new_data[expected_features]\n",
    "    new_data[expected_features] = scaler.transform(new_data[expected_features])\n",
    "    return new_data\n",
    "\n",
    "# Define the model prediction function\n",
    "def predict(model, new_data, patient_ids):\n",
    "    with torch.no_grad():\n",
    "        new_data = torch.tensor(new_data.to_numpy(dtype=np.float32))\n",
    "        patient_ids = torch.tensor(patient_ids, dtype=torch.long)\n",
    "        if new_data.ndim == 2:\n",
    "            new_data = new_data.unsqueeze(0)\n",
    "            patient_ids = patient_ids.unsqueeze(0)\n",
    "        outputs = model(new_data, patient_ids)\n",
    "        _, predicted = torch.max(outputs.data, 1)\n",
    "        predictions = [\"PD\" if label == 1 else \"Control\" for label in predicted.tolist()]\n",
    "        return predictions\n",
    "\n",
    "# Prediction using the model\n",
    "filepath = '/Users/suhrudp/Library/CloudStorage/OneDrive-Personal/Stats/REMAP Open Dataset PD/21h9f9e30v9cl2fapjggz4q1x7/Turning/Data/turning_2D3D_skeletons_coarsened/Turning_coarsen_CSV/Pt204_C_n_387/input_2D/keypoints.csv'\n",
    "turning_features = {\n",
    "    'number_of_turning_steps': 5,\n",
    "    'turning_duration': 1.5,\n",
    "    'turning_angle': 4,\n",
    "    'type_of_turn': 1\n",
    "}\n",
    "preprocessed_data = preprocess_new_data(filepath, scaler, turning_features=turning_features)\n",
    "patient_ids = np.array([0])\n",
    "prediction = predict(model, preprocessed_data, patient_ids)\n",
    "print(f'The predictions for the new data are: {prediction}')"
   ]
  }
 ],
 "metadata": {
  "kernelspec": {
   "display_name": "base",
   "language": "python",
   "name": "python3"
  },
  "language_info": {
   "codemirror_mode": {
    "name": "ipython",
    "version": 3
   },
   "file_extension": ".py",
   "mimetype": "text/x-python",
   "name": "python",
   "nbconvert_exporter": "python",
   "pygments_lexer": "ipython3",
   "version": "3.11.5"
  }
 },
 "nbformat": 4,
 "nbformat_minor": 2
}
